{
 "cells": [
  {
   "cell_type": "markdown",
   "metadata": {},
   "source": [
    "# Exploration"
   ]
  },
  {
   "cell_type": "markdown",
   "metadata": {},
   "source": [
    "## Read data"
   ]
  },
  {
   "cell_type": "code",
   "execution_count": 1,
   "metadata": {},
   "outputs": [],
   "source": [
    "import pandas as pd\n",
    "import matplotlib.pyplot as plt\n",
    "import seaborn as sns\n",
    "import datetime\n",
    "import numpy as np\n",
    "\n",
    "from pandas.plotting import register_matplotlib_converters\n",
    "register_matplotlib_converters()"
   ]
  },
  {
   "cell_type": "code",
   "execution_count": 2,
   "metadata": {},
   "outputs": [],
   "source": [
    "input_interval_file_path = 'data/life_interval_data.csv'\n",
    "input_total_file_path = 'data/life_total_data.csv'\n",
    "\n",
    "df_i = pd.read_csv(input_interval_file_path)\n",
    "df_t = pd.read_csv(input_total_file_path,index_col='date')\n",
    "\n",
    "# Parse dates and times\n",
    "\n",
    "def conv_to_timedelta(s):\n",
    "    # Hack to use pd.to_timedelta\n",
    "    return pd.to_timedelta(s+':00')\n",
    "\n",
    "def conv_to_scalar(s):\n",
    "    return pd.to_timedelta(s+':00').total_seconds()/3600\n",
    "\n",
    "def timedelta_to_scalar(td):\n",
    "    return td.total_seconds()/3600\n",
    "\n",
    "df_i.date = pd.to_datetime(df_i.date)\n",
    "df_i.start_time = pd.to_datetime(df_i.start_time)\n",
    "\n",
    "df_i.time = df_i.time.map(conv_to_timedelta)\n",
    "df_i['end_time'] = df_i.start_time + df_i.time\n",
    "df_i.time = df_i.time.map(timedelta_to_scalar)\n",
    "\n",
    "df_t = df_t.applymap(conv_to_scalar)"
   ]
  },
  {
   "cell_type": "code",
   "execution_count": 3,
   "metadata": {},
   "outputs": [
    {
     "data": {
      "text/html": [
       "<div>\n",
       "<style scoped>\n",
       "    .dataframe tbody tr th:only-of-type {\n",
       "        vertical-align: middle;\n",
       "    }\n",
       "\n",
       "    .dataframe tbody tr th {\n",
       "        vertical-align: top;\n",
       "    }\n",
       "\n",
       "    .dataframe thead th {\n",
       "        text-align: right;\n",
       "    }\n",
       "</style>\n",
       "<table border=\"1\" class=\"dataframe\">\n",
       "  <thead>\n",
       "    <tr style=\"text-align: right;\">\n",
       "      <th></th>\n",
       "      <th>date</th>\n",
       "      <th>time</th>\n",
       "      <th>activity</th>\n",
       "      <th>start_time</th>\n",
       "      <th>end_time</th>\n",
       "    </tr>\n",
       "  </thead>\n",
       "  <tbody>\n",
       "    <tr>\n",
       "      <th>0</th>\n",
       "      <td>2019-05-01</td>\n",
       "      <td>0.250000</td>\n",
       "      <td>prep</td>\n",
       "      <td>2019-05-01 05:20:00</td>\n",
       "      <td>2019-05-01 05:35:00</td>\n",
       "    </tr>\n",
       "    <tr>\n",
       "      <th>1</th>\n",
       "      <td>2019-05-01</td>\n",
       "      <td>1.000000</td>\n",
       "      <td>math</td>\n",
       "      <td>2019-05-01 05:35:00</td>\n",
       "      <td>2019-05-01 06:35:00</td>\n",
       "    </tr>\n",
       "    <tr>\n",
       "      <th>2</th>\n",
       "      <td>2019-05-01</td>\n",
       "      <td>0.166667</td>\n",
       "      <td>pause</td>\n",
       "      <td>2019-05-01 06:35:00</td>\n",
       "      <td>2019-05-01 06:45:00</td>\n",
       "    </tr>\n",
       "    <tr>\n",
       "      <th>3</th>\n",
       "      <td>2019-05-01</td>\n",
       "      <td>1.000000</td>\n",
       "      <td>math</td>\n",
       "      <td>2019-05-01 06:45:00</td>\n",
       "      <td>2019-05-01 07:45:00</td>\n",
       "    </tr>\n",
       "    <tr>\n",
       "      <th>4</th>\n",
       "      <td>2019-05-01</td>\n",
       "      <td>1.500000</td>\n",
       "      <td>music</td>\n",
       "      <td>2019-05-01 07:45:00</td>\n",
       "      <td>2019-05-01 09:15:00</td>\n",
       "    </tr>\n",
       "  </tbody>\n",
       "</table>\n",
       "</div>"
      ],
      "text/plain": [
       "        date      time activity          start_time            end_time\n",
       "0 2019-05-01  0.250000     prep 2019-05-01 05:20:00 2019-05-01 05:35:00\n",
       "1 2019-05-01  1.000000     math 2019-05-01 05:35:00 2019-05-01 06:35:00\n",
       "2 2019-05-01  0.166667    pause 2019-05-01 06:35:00 2019-05-01 06:45:00\n",
       "3 2019-05-01  1.000000     math 2019-05-01 06:45:00 2019-05-01 07:45:00\n",
       "4 2019-05-01  1.500000    music 2019-05-01 07:45:00 2019-05-01 09:15:00"
      ]
     },
     "execution_count": 3,
     "metadata": {},
     "output_type": "execute_result"
    }
   ],
   "source": [
    "df_i.head()"
   ]
  },
  {
   "cell_type": "code",
   "execution_count": 4,
   "metadata": {},
   "outputs": [
    {
     "data": {
      "text/html": [
       "<div>\n",
       "<style scoped>\n",
       "    .dataframe tbody tr th:only-of-type {\n",
       "        vertical-align: middle;\n",
       "    }\n",
       "\n",
       "    .dataframe tbody tr th {\n",
       "        vertical-align: top;\n",
       "    }\n",
       "\n",
       "    .dataframe thead th {\n",
       "        text-align: right;\n",
       "    }\n",
       "</style>\n",
       "<table border=\"1\" class=\"dataframe\">\n",
       "  <thead>\n",
       "    <tr style=\"text-align: right;\">\n",
       "      <th></th>\n",
       "      <th>cook</th>\n",
       "      <th>eat</th>\n",
       "      <th>math</th>\n",
       "      <th>music</th>\n",
       "      <th>pause</th>\n",
       "      <th>prep</th>\n",
       "      <th>sleep</th>\n",
       "      <th>uni</th>\n",
       "      <th>meditation</th>\n",
       "      <th>special</th>\n",
       "      <th>work</th>\n",
       "    </tr>\n",
       "    <tr>\n",
       "      <th>date</th>\n",
       "      <th></th>\n",
       "      <th></th>\n",
       "      <th></th>\n",
       "      <th></th>\n",
       "      <th></th>\n",
       "      <th></th>\n",
       "      <th></th>\n",
       "      <th></th>\n",
       "      <th></th>\n",
       "      <th></th>\n",
       "      <th></th>\n",
       "    </tr>\n",
       "  </thead>\n",
       "  <tbody>\n",
       "    <tr>\n",
       "      <th>2019-05-01</th>\n",
       "      <td>0.550000</td>\n",
       "      <td>1.766667</td>\n",
       "      <td>3.516667</td>\n",
       "      <td>1.950000</td>\n",
       "      <td>1.216667</td>\n",
       "      <td>5.816667</td>\n",
       "      <td>11.716667</td>\n",
       "      <td>1.633333</td>\n",
       "      <td>0.000000</td>\n",
       "      <td>0.0</td>\n",
       "      <td>0.0</td>\n",
       "    </tr>\n",
       "    <tr>\n",
       "      <th>2019-05-02</th>\n",
       "      <td>0.683333</td>\n",
       "      <td>2.450000</td>\n",
       "      <td>6.650000</td>\n",
       "      <td>0.950000</td>\n",
       "      <td>0.516667</td>\n",
       "      <td>1.750000</td>\n",
       "      <td>5.916667</td>\n",
       "      <td>2.833333</td>\n",
       "      <td>0.000000</td>\n",
       "      <td>0.0</td>\n",
       "      <td>0.0</td>\n",
       "    </tr>\n",
       "    <tr>\n",
       "      <th>2019-05-03</th>\n",
       "      <td>0.933333</td>\n",
       "      <td>1.950000</td>\n",
       "      <td>0.000000</td>\n",
       "      <td>0.166667</td>\n",
       "      <td>0.866667</td>\n",
       "      <td>3.833333</td>\n",
       "      <td>12.250000</td>\n",
       "      <td>5.750000</td>\n",
       "      <td>0.250000</td>\n",
       "      <td>0.0</td>\n",
       "      <td>0.0</td>\n",
       "    </tr>\n",
       "    <tr>\n",
       "      <th>2019-05-04</th>\n",
       "      <td>1.333333</td>\n",
       "      <td>2.066667</td>\n",
       "      <td>2.500000</td>\n",
       "      <td>0.000000</td>\n",
       "      <td>0.000000</td>\n",
       "      <td>1.650000</td>\n",
       "      <td>6.866667</td>\n",
       "      <td>6.450000</td>\n",
       "      <td>0.250000</td>\n",
       "      <td>0.0</td>\n",
       "      <td>0.0</td>\n",
       "    </tr>\n",
       "    <tr>\n",
       "      <th>2019-05-05</th>\n",
       "      <td>0.283333</td>\n",
       "      <td>2.300000</td>\n",
       "      <td>2.750000</td>\n",
       "      <td>1.000000</td>\n",
       "      <td>0.000000</td>\n",
       "      <td>5.016667</td>\n",
       "      <td>8.433333</td>\n",
       "      <td>5.283333</td>\n",
       "      <td>0.333333</td>\n",
       "      <td>0.0</td>\n",
       "      <td>0.0</td>\n",
       "    </tr>\n",
       "  </tbody>\n",
       "</table>\n",
       "</div>"
      ],
      "text/plain": [
       "                cook       eat      math     music     pause      prep  \\\n",
       "date                                                                     \n",
       "2019-05-01  0.550000  1.766667  3.516667  1.950000  1.216667  5.816667   \n",
       "2019-05-02  0.683333  2.450000  6.650000  0.950000  0.516667  1.750000   \n",
       "2019-05-03  0.933333  1.950000  0.000000  0.166667  0.866667  3.833333   \n",
       "2019-05-04  1.333333  2.066667  2.500000  0.000000  0.000000  1.650000   \n",
       "2019-05-05  0.283333  2.300000  2.750000  1.000000  0.000000  5.016667   \n",
       "\n",
       "                sleep       uni  meditation  special  work  \n",
       "date                                                        \n",
       "2019-05-01  11.716667  1.633333    0.000000      0.0   0.0  \n",
       "2019-05-02   5.916667  2.833333    0.000000      0.0   0.0  \n",
       "2019-05-03  12.250000  5.750000    0.250000      0.0   0.0  \n",
       "2019-05-04   6.866667  6.450000    0.250000      0.0   0.0  \n",
       "2019-05-05   8.433333  5.283333    0.333333      0.0   0.0  "
      ]
     },
     "execution_count": 4,
     "metadata": {},
     "output_type": "execute_result"
    }
   ],
   "source": [
    "df_t.head()"
   ]
  },
  {
   "cell_type": "markdown",
   "metadata": {},
   "source": [
    "# EDA: Broad overview"
   ]
  },
  {
   "cell_type": "markdown",
   "metadata": {},
   "source": [
    "## Describe()"
   ]
  },
  {
   "cell_type": "code",
   "execution_count": 5,
   "metadata": {},
   "outputs": [
    {
     "data": {
      "text/html": [
       "<div>\n",
       "<style scoped>\n",
       "    .dataframe tbody tr th:only-of-type {\n",
       "        vertical-align: middle;\n",
       "    }\n",
       "\n",
       "    .dataframe tbody tr th {\n",
       "        vertical-align: top;\n",
       "    }\n",
       "\n",
       "    .dataframe thead th {\n",
       "        text-align: right;\n",
       "    }\n",
       "</style>\n",
       "<table border=\"1\" class=\"dataframe\">\n",
       "  <thead>\n",
       "    <tr style=\"text-align: right;\">\n",
       "      <th></th>\n",
       "      <th>cook</th>\n",
       "      <th>eat</th>\n",
       "      <th>math</th>\n",
       "      <th>music</th>\n",
       "      <th>pause</th>\n",
       "      <th>prep</th>\n",
       "      <th>sleep</th>\n",
       "      <th>uni</th>\n",
       "      <th>meditation</th>\n",
       "      <th>special</th>\n",
       "      <th>work</th>\n",
       "    </tr>\n",
       "  </thead>\n",
       "  <tbody>\n",
       "    <tr>\n",
       "      <th>count</th>\n",
       "      <td>31.000000</td>\n",
       "      <td>31.000000</td>\n",
       "      <td>31.000000</td>\n",
       "      <td>31.000000</td>\n",
       "      <td>31.000000</td>\n",
       "      <td>31.000000</td>\n",
       "      <td>31.000000</td>\n",
       "      <td>31.000000</td>\n",
       "      <td>31.000000</td>\n",
       "      <td>31.000000</td>\n",
       "      <td>31.000000</td>\n",
       "    </tr>\n",
       "    <tr>\n",
       "      <th>mean</th>\n",
       "      <td>0.649462</td>\n",
       "      <td>2.122581</td>\n",
       "      <td>2.273656</td>\n",
       "      <td>0.852151</td>\n",
       "      <td>0.977419</td>\n",
       "      <td>3.835484</td>\n",
       "      <td>8.176344</td>\n",
       "      <td>2.102688</td>\n",
       "      <td>0.241935</td>\n",
       "      <td>0.424731</td>\n",
       "      <td>2.155376</td>\n",
       "    </tr>\n",
       "    <tr>\n",
       "      <th>std</th>\n",
       "      <td>0.400312</td>\n",
       "      <td>0.817477</td>\n",
       "      <td>1.962697</td>\n",
       "      <td>0.901046</td>\n",
       "      <td>0.950911</td>\n",
       "      <td>1.957596</td>\n",
       "      <td>2.913178</td>\n",
       "      <td>1.902070</td>\n",
       "      <td>0.474027</td>\n",
       "      <td>2.186592</td>\n",
       "      <td>2.212743</td>\n",
       "    </tr>\n",
       "    <tr>\n",
       "      <th>min</th>\n",
       "      <td>0.183333</td>\n",
       "      <td>0.650000</td>\n",
       "      <td>0.000000</td>\n",
       "      <td>0.000000</td>\n",
       "      <td>0.000000</td>\n",
       "      <td>0.750000</td>\n",
       "      <td>0.000000</td>\n",
       "      <td>0.000000</td>\n",
       "      <td>0.000000</td>\n",
       "      <td>0.000000</td>\n",
       "      <td>0.000000</td>\n",
       "    </tr>\n",
       "    <tr>\n",
       "      <th>25%</th>\n",
       "      <td>0.333333</td>\n",
       "      <td>1.616667</td>\n",
       "      <td>0.650000</td>\n",
       "      <td>0.083333</td>\n",
       "      <td>0.291667</td>\n",
       "      <td>2.458333</td>\n",
       "      <td>6.958333</td>\n",
       "      <td>0.000000</td>\n",
       "      <td>0.000000</td>\n",
       "      <td>0.000000</td>\n",
       "      <td>0.000000</td>\n",
       "    </tr>\n",
       "    <tr>\n",
       "      <th>50%</th>\n",
       "      <td>0.516667</td>\n",
       "      <td>2.116667</td>\n",
       "      <td>2.050000</td>\n",
       "      <td>0.683333</td>\n",
       "      <td>0.666667</td>\n",
       "      <td>3.600000</td>\n",
       "      <td>8.250000</td>\n",
       "      <td>1.833333</td>\n",
       "      <td>0.000000</td>\n",
       "      <td>0.000000</td>\n",
       "      <td>2.366667</td>\n",
       "    </tr>\n",
       "    <tr>\n",
       "      <th>75%</th>\n",
       "      <td>0.908333</td>\n",
       "      <td>2.608333</td>\n",
       "      <td>3.058333</td>\n",
       "      <td>1.025000</td>\n",
       "      <td>1.491667</td>\n",
       "      <td>4.941667</td>\n",
       "      <td>9.566667</td>\n",
       "      <td>3.358333</td>\n",
       "      <td>0.250000</td>\n",
       "      <td>0.000000</td>\n",
       "      <td>3.091667</td>\n",
       "    </tr>\n",
       "    <tr>\n",
       "      <th>max</th>\n",
       "      <td>1.733333</td>\n",
       "      <td>3.766667</td>\n",
       "      <td>6.966667</td>\n",
       "      <td>4.166667</td>\n",
       "      <td>4.000000</td>\n",
       "      <td>8.833333</td>\n",
       "      <td>15.600000</td>\n",
       "      <td>6.450000</td>\n",
       "      <td>2.000000</td>\n",
       "      <td>12.166667</td>\n",
       "      <td>10.050000</td>\n",
       "    </tr>\n",
       "  </tbody>\n",
       "</table>\n",
       "</div>"
      ],
      "text/plain": [
       "            cook        eat       math      music      pause       prep  \\\n",
       "count  31.000000  31.000000  31.000000  31.000000  31.000000  31.000000   \n",
       "mean    0.649462   2.122581   2.273656   0.852151   0.977419   3.835484   \n",
       "std     0.400312   0.817477   1.962697   0.901046   0.950911   1.957596   \n",
       "min     0.183333   0.650000   0.000000   0.000000   0.000000   0.750000   \n",
       "25%     0.333333   1.616667   0.650000   0.083333   0.291667   2.458333   \n",
       "50%     0.516667   2.116667   2.050000   0.683333   0.666667   3.600000   \n",
       "75%     0.908333   2.608333   3.058333   1.025000   1.491667   4.941667   \n",
       "max     1.733333   3.766667   6.966667   4.166667   4.000000   8.833333   \n",
       "\n",
       "           sleep        uni  meditation    special       work  \n",
       "count  31.000000  31.000000   31.000000  31.000000  31.000000  \n",
       "mean    8.176344   2.102688    0.241935   0.424731   2.155376  \n",
       "std     2.913178   1.902070    0.474027   2.186592   2.212743  \n",
       "min     0.000000   0.000000    0.000000   0.000000   0.000000  \n",
       "25%     6.958333   0.000000    0.000000   0.000000   0.000000  \n",
       "50%     8.250000   1.833333    0.000000   0.000000   2.366667  \n",
       "75%     9.566667   3.358333    0.250000   0.000000   3.091667  \n",
       "max    15.600000   6.450000    2.000000  12.166667  10.050000  "
      ]
     },
     "execution_count": 5,
     "metadata": {},
     "output_type": "execute_result"
    }
   ],
   "source": [
    "df_t.describe()"
   ]
  },
  {
   "cell_type": "markdown",
   "metadata": {},
   "source": [
    "## Observations\n",
    "\n",
    "* **cook**\n",
    "    * I spend around 40min every day with cooking, which is reasonable\n",
    "* **eat**\n",
    "    * I was surprised that it takes me a lot more time to eat than to cook. \n",
    "    * But this can be explained with me doing something else while eating (like watching news), which then unnecessarily prolongs it.\n",
    "* **math/uni/work**\n",
    "    * I spend around 4-5h every day purely with math and university, which is a solid number\n",
    "    * Since I am also working for >2h every day, this is an acceptable amount (in May, this was primarily Data Science!)\n",
    "* **sleep**\n",
    "    * Sleep could be less, but still within reasonable limits\n",
    "    * I am somewhat worried about the high standard deviation here (3h!)\n",
    "    * The regularity of my sleep could be better!\n",
    "* **prep**\n",
    "    * Here, I included everything from morning routines to sports to reflection to groceries shopping\n",
    "    * It was to be expected that this takes a lot of time (< 4h)\n",
    "* **music/meditation/pause**\n",
    "    * All 0.5h to 1h with relatively low variance\n",
    "    * They all leave room for improvement, but they all lie within reason"
   ]
  },
  {
   "cell_type": "markdown",
   "metadata": {},
   "source": [
    "## Total time per activity "
   ]
  },
  {
   "cell_type": "code",
   "execution_count": 6,
   "metadata": {},
   "outputs": [
    {
     "data": {
      "text/plain": [
       "<matplotlib.axes._subplots.AxesSubplot at 0x7f20b8702e48>"
      ]
     },
     "execution_count": 6,
     "metadata": {},
     "output_type": "execute_result"
    },
    {
     "data": {
      "image/png": "[encoded data removed]",
      "text/plain": [
       "<Figure size 432x288 with 1 Axes>"
      ]
     },
     "metadata": {
      "needs_background": "light"
     },
     "output_type": "display_data"
    }
   ],
   "source": [
    "df_t['productive'] = df_t['math'] + df_t['uni'] + df_t['work']\n",
    "df_t.sum().plot.bar()"
   ]
  },
  {
   "cell_type": "markdown",
   "metadata": {},
   "source": [
    "## Observations\n",
    "\n",
    "* I should cut down on eating time and see whether I could optimize the 'prep' column\n",
    "* Sleep in total is more than productive work, which is disillusioning"
   ]
  },
  {
   "cell_type": "markdown",
   "metadata": {},
   "source": [
    "## Productive activities over time "
   ]
  },
  {
   "cell_type": "code",
   "execution_count": 7,
   "metadata": {},
   "outputs": [
    {
     "data": {
      "text/plain": [
       "<matplotlib.axes._subplots.AxesSubplot at 0x7f20b65f9320>"
      ]
     },
     "execution_count": 7,
     "metadata": {},
     "output_type": "execute_result"
    },
    {
     "data": {
      "image/png": "[encoded data removed]",
      "text/plain": [
       "<Figure size 1152x432 with 1 Axes>"
      ]
     },
     "metadata": {
      "needs_background": "light"
     },
     "output_type": "display_data"
    }
   ],
   "source": [
    "df_t_prod = df_t.filter(['math','uni','work'],axis=1)\n",
    "df_t_prod.plot.bar(stacked=True,figsize=(16,6))"
   ]
  },
  {
   "cell_type": "markdown",
   "metadata": {},
   "source": [
    "## Observations\n",
    "\n",
    "* Relatively consistent work in the first part of the month (if you consider the total)\n",
    "* University suffered in the second part of the month\n",
    "* Only one day without work (due to a special occasion)\n",
    "* Gradual switch from university to work (i.e. learning Data Science)\n",
    "* Some days, I am very motivated to do math; they stand out (such as 2019-05-14)\n",
    "* Very productive days are often followed by less productive ones (such as 2019-05-28 and the day after)"
   ]
  },
  {
   "cell_type": "markdown",
   "metadata": {},
   "source": [
    "# Productivity "
   ]
  },
  {
   "cell_type": "markdown",
   "metadata": {},
   "source": [
    "## Total productive time "
   ]
  },
  {
   "cell_type": "code",
   "execution_count": 8,
   "metadata": {},
   "outputs": [
    {
     "data": {
      "text/html": [
       "<div>\n",
       "<style scoped>\n",
       "    .dataframe tbody tr th:only-of-type {\n",
       "        vertical-align: middle;\n",
       "    }\n",
       "\n",
       "    .dataframe tbody tr th {\n",
       "        vertical-align: top;\n",
       "    }\n",
       "\n",
       "    .dataframe thead th {\n",
       "        text-align: right;\n",
       "    }\n",
       "</style>\n",
       "<table border=\"1\" class=\"dataframe\">\n",
       "  <thead>\n",
       "    <tr style=\"text-align: right;\">\n",
       "      <th></th>\n",
       "      <th>math</th>\n",
       "      <th>uni</th>\n",
       "      <th>work</th>\n",
       "      <th>total</th>\n",
       "    </tr>\n",
       "    <tr>\n",
       "      <th>date</th>\n",
       "      <th></th>\n",
       "      <th></th>\n",
       "      <th></th>\n",
       "      <th></th>\n",
       "    </tr>\n",
       "  </thead>\n",
       "  <tbody>\n",
       "    <tr>\n",
       "      <th>2019-05-01</th>\n",
       "      <td>3.516667</td>\n",
       "      <td>1.633333</td>\n",
       "      <td>0.0</td>\n",
       "      <td>5.150000</td>\n",
       "    </tr>\n",
       "    <tr>\n",
       "      <th>2019-05-02</th>\n",
       "      <td>6.650000</td>\n",
       "      <td>2.833333</td>\n",
       "      <td>0.0</td>\n",
       "      <td>9.483333</td>\n",
       "    </tr>\n",
       "    <tr>\n",
       "      <th>2019-05-03</th>\n",
       "      <td>0.000000</td>\n",
       "      <td>5.750000</td>\n",
       "      <td>0.0</td>\n",
       "      <td>5.750000</td>\n",
       "    </tr>\n",
       "    <tr>\n",
       "      <th>2019-05-04</th>\n",
       "      <td>2.500000</td>\n",
       "      <td>6.450000</td>\n",
       "      <td>0.0</td>\n",
       "      <td>8.950000</td>\n",
       "    </tr>\n",
       "    <tr>\n",
       "      <th>2019-05-05</th>\n",
       "      <td>2.750000</td>\n",
       "      <td>5.283333</td>\n",
       "      <td>0.0</td>\n",
       "      <td>8.033333</td>\n",
       "    </tr>\n",
       "  </tbody>\n",
       "</table>\n",
       "</div>"
      ],
      "text/plain": [
       "                math       uni  work     total\n",
       "date                                          \n",
       "2019-05-01  3.516667  1.633333   0.0  5.150000\n",
       "2019-05-02  6.650000  2.833333   0.0  9.483333\n",
       "2019-05-03  0.000000  5.750000   0.0  5.750000\n",
       "2019-05-04  2.500000  6.450000   0.0  8.950000\n",
       "2019-05-05  2.750000  5.283333   0.0  8.033333"
      ]
     },
     "execution_count": 8,
     "metadata": {},
     "output_type": "execute_result"
    }
   ],
   "source": [
    "col_prod = ['math','uni','work']\n",
    "df_prod = df_t[col_prod].copy()\n",
    "df_prod.head()\n",
    "df_prod['total'] = df_prod.apply(lambda x: x.sum(),axis=1)\n",
    "df_prod.head()"
   ]
  },
  {
   "cell_type": "code",
   "execution_count": 9,
   "metadata": {},
   "outputs": [
    {
     "data": {
      "text/plain": [
       "<matplotlib.lines.Line2D at 0x7f20b86fe390>"
      ]
     },
     "execution_count": 9,
     "metadata": {},
     "output_type": "execute_result"
    },
    {
     "data": {
      "image/png": "[encoded data removed]",
      "text/plain": [
       "<Figure size 432x288 with 1 Axes>"
      ]
     },
     "metadata": {
      "needs_background": "light"
     },
     "output_type": "display_data"
    }
   ],
   "source": [
    "ax = df_prod.total.plot.line()\n",
    "ax.axhline(df_prod.total.mean(),c='grey',ls='--')"
   ]
  },
  {
   "cell_type": "markdown",
   "metadata": {},
   "source": [
    "## Observations\n",
    "\n",
    "* I notice that I am doing a fairly consistent amount of work over time\n",
    "* Except for two days, I worked for 6-8h every day!"
   ]
  },
  {
   "cell_type": "markdown",
   "metadata": {},
   "source": [
    "## Productivity per week"
   ]
  },
  {
   "cell_type": "code",
   "execution_count": 10,
   "metadata": {},
   "outputs": [
    {
     "data": {
      "text/plain": [
       "<matplotlib.axes._subplots.AxesSubplot at 0x7f20b62d35c0>"
      ]
     },
     "execution_count": 10,
     "metadata": {},
     "output_type": "execute_result"
    },
    {
     "data": {
      "image/png": "[encoded data removed]",
      "text/plain": [
       "<Figure size 432x288 with 1 Axes>"
      ]
     },
     "metadata": {
      "needs_background": "light"
     },
     "output_type": "display_data"
    }
   ],
   "source": [
    "start_day = '2019-05-06'\n",
    "start_loc = df_prod.index.get_loc(start_day)\n",
    "prod_by_week = pd.Series()\n",
    "\n",
    "while True:\n",
    "    current_week = df_prod.total.iloc[start_loc:start_loc+7]\n",
    "    if len(current_week) != 7 :\n",
    "        break\n",
    "    prod_by_week[df_prod.index[start_loc]] = current_week.sum()\n",
    "    start_loc += 7\n",
    "\n",
    "prod_by_week.plot.line()"
   ]
  },
  {
   "cell_type": "markdown",
   "metadata": {},
   "source": [
    "## Observations\n",
    "\n",
    "* I worked for around 45h a week in May\n",
    "* However, for this plot to be meaningful, more data is needed"
   ]
  },
  {
   "cell_type": "markdown",
   "metadata": {},
   "source": [
    "## Productivity per day-of-week "
   ]
  },
  {
   "cell_type": "code",
   "execution_count": 11,
   "metadata": {},
   "outputs": [
    {
     "data": {
      "text/html": [
       "<div>\n",
       "<style scoped>\n",
       "    .dataframe tbody tr th:only-of-type {\n",
       "        vertical-align: middle;\n",
       "    }\n",
       "\n",
       "    .dataframe tbody tr th {\n",
       "        vertical-align: top;\n",
       "    }\n",
       "\n",
       "    .dataframe thead th {\n",
       "        text-align: right;\n",
       "    }\n",
       "</style>\n",
       "<table border=\"1\" class=\"dataframe\">\n",
       "  <thead>\n",
       "    <tr style=\"text-align: right;\">\n",
       "      <th></th>\n",
       "      <th>total</th>\n",
       "      <th>dow</th>\n",
       "    </tr>\n",
       "    <tr>\n",
       "      <th>date</th>\n",
       "      <th></th>\n",
       "      <th></th>\n",
       "    </tr>\n",
       "  </thead>\n",
       "  <tbody>\n",
       "    <tr>\n",
       "      <th>2019-05-01</th>\n",
       "      <td>5.150000</td>\n",
       "      <td>2</td>\n",
       "    </tr>\n",
       "    <tr>\n",
       "      <th>2019-05-02</th>\n",
       "      <td>9.483333</td>\n",
       "      <td>3</td>\n",
       "    </tr>\n",
       "    <tr>\n",
       "      <th>2019-05-03</th>\n",
       "      <td>5.750000</td>\n",
       "      <td>4</td>\n",
       "    </tr>\n",
       "    <tr>\n",
       "      <th>2019-05-04</th>\n",
       "      <td>8.950000</td>\n",
       "      <td>5</td>\n",
       "    </tr>\n",
       "    <tr>\n",
       "      <th>2019-05-05</th>\n",
       "      <td>8.033333</td>\n",
       "      <td>6</td>\n",
       "    </tr>\n",
       "  </tbody>\n",
       "</table>\n",
       "</div>"
      ],
      "text/plain": [
       "               total  dow\n",
       "date                     \n",
       "2019-05-01  5.150000    2\n",
       "2019-05-02  9.483333    3\n",
       "2019-05-03  5.750000    4\n",
       "2019-05-04  8.950000    5\n",
       "2019-05-05  8.033333    6"
      ]
     },
     "execution_count": 11,
     "metadata": {},
     "output_type": "execute_result"
    }
   ],
   "source": [
    "df_tmp = df_prod[['total']].copy()\n",
    "df_tmp['dow'] = df_prod.index.map(lambda x : pd.to_datetime(x).weekday())\n",
    "df_tmp.head()"
   ]
  },
  {
   "cell_type": "code",
   "execution_count": 12,
   "metadata": {},
   "outputs": [
    {
     "data": {
      "text/plain": [
       "<matplotlib.axes._subplots.AxesSubplot at 0x7f20b64546a0>"
      ]
     },
     "execution_count": 12,
     "metadata": {},
     "output_type": "execute_result"
    },
    {
     "data": {
      "image/png": "[encoded data removed]",
      "text/plain": [
       "<Figure size 432x288 with 1 Axes>"
      ]
     },
     "metadata": {
      "needs_background": "light"
     },
     "output_type": "display_data"
    }
   ],
   "source": [
    "df_tmp.groupby('dow').mean().plot.bar()"
   ]
  },
  {
   "cell_type": "code",
   "execution_count": 13,
   "metadata": {},
   "outputs": [
    {
     "data": {
      "text/plain": [
       "<matplotlib.axes._subplots.AxesSubplot at 0x7f20b62e1c50>"
      ]
     },
     "execution_count": 13,
     "metadata": {},
     "output_type": "execute_result"
    },
    {
     "data": {
      "image/png": "[encoded data removed]",
      "text/plain": [
       "<Figure size 432x288 with 1 Axes>"
      ]
     },
     "metadata": {
      "needs_background": "light"
     },
     "output_type": "display_data"
    }
   ],
   "source": [
    "ax = df_tmp.boxplot(by='dow')\n",
    "ax.set_title('')\n",
    "ax"
   ]
  },
  {
   "cell_type": "markdown",
   "metadata": {},
   "source": [
    "## Observations\n",
    "\n",
    "* My productivity varies greatly depending on the day of the week\n",
    "* Tuesdays and Thursdays are a lot more productive than Wednesdays and Fridays\n",
    "* It is surprising that the second most productive day is Saturday!"
   ]
  },
  {
   "cell_type": "markdown",
   "metadata": {},
   "source": [
    "## Violation: working after 8pm "
   ]
  },
  {
   "cell_type": "markdown",
   "metadata": {},
   "source": [
    "I try to stop working at 8pm. On some days, I overstep that rule. The following graph displays the exact amount of overtime."
   ]
  },
  {
   "cell_type": "code",
   "execution_count": 14,
   "metadata": {},
   "outputs": [
    {
     "data": {
      "text/plain": [
       "<matplotlib.axes._subplots.AxesSubplot at 0x7f20b6354828>"
      ]
     },
     "execution_count": 14,
     "metadata": {},
     "output_type": "execute_result"
    },
    {
     "data": {
      "image/png": "[encoded data removed]",
      "text/plain": [
       "<Figure size 1152x432 with 1 Axes>"
      ]
     },
     "metadata": {
      "needs_background": "light"
     },
     "output_type": "display_data"
    }
   ],
   "source": [
    "work_activities = ['self','uni','work']\n",
    "\n",
    "s_overtime = pd.Series()\n",
    "\n",
    "for day in df_i.date.unique():\n",
    "    deadline = pd.to_datetime(day)+pd.to_timedelta('20h')\n",
    "    tot = 0\n",
    "    over_deadline = df_i[(df_i.date==day) & (df_i.activity.isin(work_activities)) & (df_i.end_time > deadline)]\n",
    "    for i,row in over_deadline.iterrows():\n",
    "        if row.start_time > deadline:\n",
    "            tot += row.time\n",
    "        else:\n",
    "            tot += timedelta_to_scalar(row.end_time - deadline)\n",
    "    s_overtime[pd.to_datetime(day).strftime('%Y-%m-%d')] = tot\n",
    "    \n",
    "s_overtime.plot.bar(figsize=(16,6))"
   ]
  },
  {
   "cell_type": "markdown",
   "metadata": {},
   "source": [
    "## Observation\n",
    "\n",
    "* It seems that I barely ever violate this rule\n",
    "* And if so, then only by less than 1h (except for one day)!"
   ]
  },
  {
   "cell_type": "markdown",
   "metadata": {},
   "source": [
    "# Eat and cook"
   ]
  },
  {
   "cell_type": "code",
   "execution_count": 15,
   "metadata": {},
   "outputs": [
    {
     "data": {
      "text/plain": [
       "<matplotlib.axes._subplots.AxesSubplot at 0x7f20b626e780>"
      ]
     },
     "execution_count": 15,
     "metadata": {},
     "output_type": "execute_result"
    },
    {
     "data": {
      "image/png": "[encoded data removed]",
      "text/plain": [
       "<Figure size 1152x432 with 1 Axes>"
      ]
     },
     "metadata": {
      "needs_background": "light"
     },
     "output_type": "display_data"
    }
   ],
   "source": [
    "df_food = df_t.copy().filter(['cook','eat'],axis=1)\n",
    "df_food.plot.bar(stacked=True, figsize=(16,6))"
   ]
  },
  {
   "cell_type": "markdown",
   "metadata": {},
   "source": [
    "## Observations\n",
    "\n",
    "* I cook little on most days, except for those when I prepare meals for days to come (e.g. 2019-05-24)\n",
    "* Eating time is quite high, but this is because I generally do something else while eating"
   ]
  },
  {
   "cell_type": "code",
   "execution_count": 16,
   "metadata": {},
   "outputs": [
    {
     "name": "stdout",
     "output_type": "stream",
     "text": [
      "0.4838709677419355\n"
     ]
    },
    {
     "data": {
      "text/plain": [
       "<matplotlib.legend.Legend at 0x7f20b61d5fd0>"
      ]
     },
     "execution_count": 16,
     "metadata": {},
     "output_type": "execute_result"
    },
    {
     "data": {
      "image/png": "[encoded data removed]",
      "text/plain": [
       "<Figure size 432x288 with 1 Axes>"
      ]
     },
     "metadata": {
      "needs_background": "light"
     },
     "output_type": "display_data"
    }
   ],
   "source": [
    "sns.distplot(df_food.cook,label='cook')\n",
    "sns.distplot(df_food.eat,label='eat')\n",
    "\n",
    "print((df_food.cook <= 0.5).sum()/len(df_food))\n",
    "plt.legend()"
   ]
  },
  {
   "cell_type": "markdown",
   "metadata": {},
   "source": [
    "## Observation\n",
    "\n",
    "* On around half of days (48%), I spend less than 30min on cooking\n",
    "* The most frequently occurring eating time is 2-2.5h, which is probably split on 1h for lunch and 1h for dinner"
   ]
  },
  {
   "cell_type": "markdown",
   "metadata": {},
   "source": [
    "## Entertainment "
   ]
  },
  {
   "cell_type": "code",
   "execution_count": 17,
   "metadata": {},
   "outputs": [
    {
     "data": {
      "text/plain": [
       "<matplotlib.axes._subplots.AxesSubplot at 0x7f20b416b198>"
      ]
     },
     "execution_count": 17,
     "metadata": {},
     "output_type": "execute_result"
    },
    {
     "data": {
      "image/png": "[encoded data removed]",
      "text/plain": [
       "<Figure size 432x288 with 1 Axes>"
      ]
     },
     "metadata": {
      "needs_background": "light"
     },
     "output_type": "display_data"
    }
   ],
   "source": [
    "# Assume: eating alone would take 1h every day\n",
    "eat_entertainment = df_t.eat.map(lambda x: max(0, x-1))\n",
    "eat_entertainment.name = 'entertainment'\n",
    "sns.distplot(eat_entertainment)"
   ]
  },
  {
   "cell_type": "code",
   "execution_count": 18,
   "metadata": {},
   "outputs": [
    {
     "name": "stdout",
     "output_type": "stream",
     "text": [
      "count    31.000000\n",
      "mean      2.981720\n",
      "std       1.151491\n",
      "min       0.650000\n",
      "25%       2.266667\n",
      "50%       2.916667\n",
      "75%       3.725000\n",
      "max       5.400000\n",
      "dtype: float64\n"
     ]
    },
    {
     "data": {
      "text/plain": [
       "<matplotlib.axes._subplots.AxesSubplot at 0x7f20b4144208>"
      ]
     },
     "execution_count": 18,
     "metadata": {},
     "output_type": "execute_result"
    },
    {
     "data": {
      "image/png": "[encoded data removed]",
      "text/plain": [
       "<Figure size 432x288 with 1 Axes>"
      ]
     },
     "metadata": {
      "needs_background": "light"
     },
     "output_type": "display_data"
    }
   ],
   "source": [
    "all_entertainment = eat_entertainment + df_t.pause + df_t.music\n",
    "print(all_entertainment.describe())\n",
    "sns.distplot(all_entertainment)"
   ]
  },
  {
   "cell_type": "markdown",
   "metadata": {},
   "source": [
    "## Observations\n",
    "\n",
    "* First chart\n",
    "    * From the data on eating times, we can roughly conclude that I spend 0-2.5h on things other than eating\n",
    "* Second chart\n",
    "    * If we sum this data with 'pause' and 'music', the result is roughly the total amount of entertainment\n",
    "    * Which is quite stable at 2-2.5h (for >50% of days)\n",
    "    * The relatively low variance can be explained by the fact that one type of entertainment (e.g. music) typically makes another type unnecessary (e.g. pause); in the end, they add up to roughly the same amount\n",
    "    * This data also shows that there is room for improvement"
   ]
  },
  {
   "cell_type": "markdown",
   "metadata": {},
   "source": [
    "# Sleep"
   ]
  },
  {
   "cell_type": "markdown",
   "metadata": {},
   "source": [
    "Calculate the duration of the **main** sleep cycle, excluding naps"
   ]
  },
  {
   "cell_type": "code",
   "execution_count": 19,
   "metadata": {},
   "outputs": [
    {
     "data": {
      "text/plain": [
       "<matplotlib.axes._subplots.AxesSubplot at 0x7f20b40d6240>"
      ]
     },
     "execution_count": 19,
     "metadata": {},
     "output_type": "execute_result"
    },
    {
     "data": {
      "image/png": "[encoded data removed]",
      "text/plain": [
       "<Figure size 432x288 with 1 Axes>"
      ]
     },
     "metadata": {
      "needs_background": "light"
     },
     "output_type": "display_data"
    },
    {
     "data": {
      "image/png": "[encoded data removed]",
      "text/plain": [
       "<Figure size 432x288 with 1 Axes>"
      ]
     },
     "metadata": {
      "needs_background": "light"
     },
     "output_type": "display_data"
    }
   ],
   "source": [
    "df_sleep = pd.DataFrame(columns=['start','end','duration'])\n",
    "\n",
    "days = df_t.index\n",
    "\n",
    "for i,day in enumerate(days):\n",
    "\n",
    "    # We only know the end time of sleep for days where we have data for the next day, too\n",
    "    # So, exclude the last one\n",
    "\n",
    "    if i == len(days)-1:\n",
    "        df_sleep.loc[day] = [np.nan,np.nan,np.nan]\n",
    "        continue\n",
    "    \n",
    "    # Get last activity of the day (which should be sleep)\n",
    "    last_activity = df_i[df_i.date==day]\n",
    "    if not len(last_activity):\n",
    "        df_sleep.loc[day] = [np.nan,np.nan,np.nan]\n",
    "        continue\n",
    "    last_activity = last_activity.iloc[-1]\n",
    "    \n",
    "    if last_activity.activity != 'sleep':\n",
    "        df_sleep.loc[day] = [np.nan,np.nan,np.nan]\n",
    "        continue\n",
    "    \n",
    "    # Get the first activity of the next day\n",
    "    first_activity = df_i[df_i.date==days[i+1]]\n",
    "    if not len(first_activity):\n",
    "        df_sleep.loc[day] = [np.nan,np.nan,np.nan]\n",
    "        continue\n",
    "    first_activity = first_activity.iloc[0]\n",
    "    \n",
    "    # Calculate start and end of sleep\n",
    "    sleep_start = last_activity.start_time\n",
    "    sleep_end = first_activity.start_time\n",
    "    duration = timedelta_to_scalar(sleep_end-sleep_start)\n",
    "    df_sleep.loc[day] = [sleep_start, sleep_end, duration]\n",
    "\n",
    "plt.figure()\n",
    "df_sleep.duration.plot.kde()\n",
    "plt.figure()\n",
    "df_sleep.duration.plot.hist()"
   ]
  },
  {
   "cell_type": "markdown",
   "metadata": {},
   "source": [
    "## Observations\n",
    "\n",
    "* On most days, I sleep around 6.5-7h, which is approximately the recommended sleeping time\n",
    "* On some days, I sleep too much (> 10h)\n",
    "* It would be desirable to have more consistency (and lower variance)"
   ]
  },
  {
   "cell_type": "markdown",
   "metadata": {},
   "source": [
    "## Nap time "
   ]
  },
  {
   "cell_type": "code",
   "execution_count": 22,
   "metadata": {},
   "outputs": [
    {
     "data": {
      "text/plain": [
       "<matplotlib.axes._subplots.AxesSubplot at 0x7f20b3eb0668>"
      ]
     },
     "execution_count": 22,
     "metadata": {},
     "output_type": "execute_result"
    },
    {
     "data": {
      "image/png": "[encoded data removed]",
      "text/plain": [
       "<Figure size 1152x360 with 1 Axes>"
      ]
     },
     "metadata": {
      "needs_background": "light"
     },
     "output_type": "display_data"
    }
   ],
   "source": [
    "# Nap time = all time spent sleeping except the main sleeping time\n",
    "\n",
    "s_nap_time = df_t.sleep - df_sleep.duration\n",
    "df_sleep['nap'] = s_nap_time\n",
    "\n",
    "df_sleep.filter(['duration','nap'],axis=1).plot.bar(stacked=True,figsize=(16,5),title='Sleep split into main sleep and naps')"
   ]
  },
  {
   "cell_type": "markdown",
   "metadata": {},
   "source": [
    "## Violations: Going to bed later than 10:30pm\n",
    "\n",
    "I try to go to bed at 10:30pm. How often and by how much do I violate this rule?"
   ]
  },
  {
   "cell_type": "code",
   "execution_count": 23,
   "metadata": {},
   "outputs": [
    {
     "data": {
      "text/plain": [
       "<matplotlib.axes._subplots.AxesSubplot at 0x7f20b3da9dd8>"
      ]
     },
     "execution_count": 23,
     "metadata": {},
     "output_type": "execute_result"
    },
    {
     "data": {
      "image/png": "[encoded data removed]",
      "text/plain": [
       "<Figure size 1152x432 with 1 Axes>"
      ]
     },
     "metadata": {
      "needs_background": "light"
     },
     "output_type": "display_data"
    }
   ],
   "source": [
    "optimal_time = [pd.to_datetime(i)+pd.to_timedelta('22h 30min') for i in df_sleep.index]\n",
    "violation = df_sleep.start - pd.Series(optimal_time,index=df_sleep.index)\n",
    "violation = violation.map(timedelta_to_scalar)*60\n",
    "violation.plot.bar(figsize=(16,6))"
   ]
  },
  {
   "cell_type": "markdown",
   "metadata": {},
   "source": [
    "## Observations\n",
    "\n",
    "* I still struggle follow it by the letter, but in the past month, I went to bed before 11pm nearly every day"
   ]
  },
  {
   "cell_type": "markdown",
   "metadata": {},
   "source": [
    "## Hypothesis: More sleep => higher productivity\n",
    "\n",
    "Hypothesis: If I have slept more the day before (i.e. the main sleep cycle was longer), then my productivity on the current day tends to be higher\n",
    "* Idea: If you sleep for a long time, this replenishes your energy reserves, which makes you more productive\n",
    "* **This turned out to be wrong: Sleep and productivity are not correlated!**"
   ]
  },
  {
   "cell_type": "code",
   "execution_count": 24,
   "metadata": {},
   "outputs": [
    {
     "data": {
      "text/html": [
       "<div>\n",
       "<style scoped>\n",
       "    .dataframe tbody tr th:only-of-type {\n",
       "        vertical-align: middle;\n",
       "    }\n",
       "\n",
       "    .dataframe tbody tr th {\n",
       "        vertical-align: top;\n",
       "    }\n",
       "\n",
       "    .dataframe thead th {\n",
       "        text-align: right;\n",
       "    }\n",
       "</style>\n",
       "<table border=\"1\" class=\"dataframe\">\n",
       "  <thead>\n",
       "    <tr style=\"text-align: right;\">\n",
       "      <th></th>\n",
       "      <th>total</th>\n",
       "      <th>prev_sleep</th>\n",
       "    </tr>\n",
       "  </thead>\n",
       "  <tbody>\n",
       "    <tr>\n",
       "      <th>total</th>\n",
       "      <td>1.000000</td>\n",
       "      <td>0.067909</td>\n",
       "    </tr>\n",
       "    <tr>\n",
       "      <th>prev_sleep</th>\n",
       "      <td>0.067909</td>\n",
       "      <td>1.000000</td>\n",
       "    </tr>\n",
       "  </tbody>\n",
       "</table>\n",
       "</div>"
      ],
      "text/plain": [
       "               total  prev_sleep\n",
       "total       1.000000    0.067909\n",
       "prev_sleep  0.067909    1.000000"
      ]
     },
     "execution_count": 24,
     "metadata": {},
     "output_type": "execute_result"
    }
   ],
   "source": [
    "df_tmp = df_prod[['total']].copy()\n",
    "for i in range(len(df_tmp)):\n",
    "    if i == 0:\n",
    "        continue\n",
    "    df_tmp.loc[df_tmp.index[i],'prev_sleep'] = df_sleep.iloc[i-1].duration\n",
    "df_tmp.head()\n",
    "df_tmp.corr()"
   ]
  },
  {
   "cell_type": "markdown",
   "metadata": {},
   "source": [
    "# Consequences\n",
    "\n",
    "* This analysis confirms most of the intuitions that I had\n",
    "* However, one pattern that surprised me was the inconsistency of my sleep time and the need to compensate it during the day with naps\n",
    "* This probably is related to not going to bed on time\n",
    "* One probable cause of this is eating dinner too late\n",
    "* The usual time that I eat dinner is between 7pm and 8pm\n",
    "* **As a real-life consequence of this data analysis, I am having dinner one hour earlier from now on!**"
   ]
  }
 ],
 "metadata": {
  "kernelspec": {
   "display_name": "Python 3",
   "language": "python",
   "name": "python3"
  },
  "language_info": {
   "codemirror_mode": {
    "name": "ipython",
    "version": 3
   },
   "file_extension": ".py",
   "mimetype": "text/x-python",
   "name": "python",
   "nbconvert_exporter": "python",
   "pygments_lexer": "ipython3",
   "version": "3.5.2"
  }
 },
 "nbformat": 4,
 "nbformat_minor": 2
}
