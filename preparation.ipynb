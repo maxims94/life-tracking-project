{
 "cells": [
  {
   "cell_type": "markdown",
   "metadata": {},
   "source": [
    "# Preparation"
   ]
  },
  {
   "cell_type": "markdown",
   "metadata": {},
   "source": [
    "## Read data"
   ]
  },
  {
   "cell_type": "code",
   "execution_count": 3,
   "metadata": {},
   "outputs": [],
   "source": [
    "import pandas as pd\n",
    "import numpy as np\n",
    "import datetime as dt"
   ]
  },
  {
   "cell_type": "code",
   "execution_count": 4,
   "metadata": {},
   "outputs": [],
   "source": [
    "input_file_path = 'data/life_data.csv'\n",
    "output_interval_file_path = 'data/life_interval_data.csv'\n",
    "output_total_file_path = 'data/life_total_data.csv'"
   ]
  },
  {
   "cell_type": "code",
   "execution_count": 5,
   "metadata": {},
   "outputs": [
    {
     "data": {
      "text/html": [
       "<div>\n",
       "<style scoped>\n",
       "    .dataframe tbody tr th:only-of-type {\n",
       "        vertical-align: middle;\n",
       "    }\n",
       "\n",
       "    .dataframe tbody tr th {\n",
       "        vertical-align: top;\n",
       "    }\n",
       "\n",
       "    .dataframe thead th {\n",
       "        text-align: right;\n",
       "    }\n",
       "</style>\n",
       "<table border=\"1\" class=\"dataframe\">\n",
       "  <thead>\n",
       "    <tr style=\"text-align: right;\">\n",
       "      <th></th>\n",
       "      <th>time</th>\n",
       "      <th>activity</th>\n",
       "    </tr>\n",
       "  </thead>\n",
       "  <tbody>\n",
       "    <tr>\n",
       "      <th>0</th>\n",
       "      <td>2019-05-01 05:20:00</td>\n",
       "      <td>prep</td>\n",
       "    </tr>\n",
       "    <tr>\n",
       "      <th>1</th>\n",
       "      <td>2019-05-01 05:35:00</td>\n",
       "      <td>math</td>\n",
       "    </tr>\n",
       "    <tr>\n",
       "      <th>2</th>\n",
       "      <td>2019-05-01 06:35:00</td>\n",
       "      <td>pause</td>\n",
       "    </tr>\n",
       "    <tr>\n",
       "      <th>3</th>\n",
       "      <td>2019-05-01 06:45:00</td>\n",
       "      <td>math</td>\n",
       "    </tr>\n",
       "    <tr>\n",
       "      <th>4</th>\n",
       "      <td>2019-05-01 07:45:00</td>\n",
       "      <td>music</td>\n",
       "    </tr>\n",
       "  </tbody>\n",
       "</table>\n",
       "</div>"
      ],
      "text/plain": [
       "                 time activity\n",
       "0 2019-05-01 05:20:00     prep\n",
       "1 2019-05-01 05:35:00     math\n",
       "2 2019-05-01 06:35:00    pause\n",
       "3 2019-05-01 06:45:00     math\n",
       "4 2019-05-01 07:45:00    music"
      ]
     },
     "execution_count": 5,
     "metadata": {},
     "output_type": "execute_result"
    }
   ],
   "source": [
    "df = pd.read_csv(input_file_path,header=None,parse_dates=[[0,1]],infer_datetime_format=True)\n",
    "df.columns = ['time','activity']\n",
    "df.head()"
   ]
  },
  {
   "cell_type": "markdown",
   "metadata": {},
   "source": [
    "## Fix dates"
   ]
  },
  {
   "cell_type": "markdown",
   "metadata": {},
   "source": [
    "There is a problem with the data: A time such as `2019-04-11 00:35` often refers to the day after (since it is after midnight)! This can be corrected by finding all dates that violate the chronological order and adding one day (see algorithm below)."
   ]
  },
  {
   "cell_type": "markdown",
   "metadata": {},
   "source": [
    "Before changing the data, a new column is introduced that keeps the original date. This way, no information is lost. It will later be useful to assign sleep duration to dates."
   ]
  },
  {
   "cell_type": "code",
   "execution_count": 6,
   "metadata": {},
   "outputs": [
    {
     "data": {
      "text/html": [
       "<div>\n",
       "<style scoped>\n",
       "    .dataframe tbody tr th:only-of-type {\n",
       "        vertical-align: middle;\n",
       "    }\n",
       "\n",
       "    .dataframe tbody tr th {\n",
       "        vertical-align: top;\n",
       "    }\n",
       "\n",
       "    .dataframe thead th {\n",
       "        text-align: right;\n",
       "    }\n",
       "</style>\n",
       "<table border=\"1\" class=\"dataframe\">\n",
       "  <thead>\n",
       "    <tr style=\"text-align: right;\">\n",
       "      <th></th>\n",
       "      <th>time</th>\n",
       "      <th>activity</th>\n",
       "      <th>assigned_to</th>\n",
       "    </tr>\n",
       "  </thead>\n",
       "  <tbody>\n",
       "    <tr>\n",
       "      <th>0</th>\n",
       "      <td>2019-05-01 05:20:00</td>\n",
       "      <td>prep</td>\n",
       "      <td>2019-05-01</td>\n",
       "    </tr>\n",
       "    <tr>\n",
       "      <th>1</th>\n",
       "      <td>2019-05-01 05:35:00</td>\n",
       "      <td>math</td>\n",
       "      <td>2019-05-01</td>\n",
       "    </tr>\n",
       "    <tr>\n",
       "      <th>2</th>\n",
       "      <td>2019-05-01 06:35:00</td>\n",
       "      <td>pause</td>\n",
       "      <td>2019-05-01</td>\n",
       "    </tr>\n",
       "    <tr>\n",
       "      <th>3</th>\n",
       "      <td>2019-05-01 06:45:00</td>\n",
       "      <td>math</td>\n",
       "      <td>2019-05-01</td>\n",
       "    </tr>\n",
       "    <tr>\n",
       "      <th>4</th>\n",
       "      <td>2019-05-01 07:45:00</td>\n",
       "      <td>music</td>\n",
       "      <td>2019-05-01</td>\n",
       "    </tr>\n",
       "  </tbody>\n",
       "</table>\n",
       "</div>"
      ],
      "text/plain": [
       "                 time activity assigned_to\n",
       "0 2019-05-01 05:20:00     prep  2019-05-01\n",
       "1 2019-05-01 05:35:00     math  2019-05-01\n",
       "2 2019-05-01 06:35:00    pause  2019-05-01\n",
       "3 2019-05-01 06:45:00     math  2019-05-01\n",
       "4 2019-05-01 07:45:00    music  2019-05-01"
      ]
     },
     "execution_count": 6,
     "metadata": {},
     "output_type": "execute_result"
    }
   ],
   "source": [
    "df['assigned_to'] = df.time.copy().map(lambda x: x.replace(hour=0,minute=0))\n",
    "df.head()"
   ]
  },
  {
   "cell_type": "markdown",
   "metadata": {},
   "source": [
    "### Algorithm\n",
    "\n",
    "The algorithm below uses an inplace approach. It works with more than one faulty datetime -- such as having both `01:00,work` and `03:00,sleep` in one file. The reason is that adding one day to a faulty date creates another violation of chronological order that is caught in the next run of the loop. The only constraint is that the latest time of a day has to appear before the earliest of the next."
   ]
  },
  {
   "cell_type": "code",
   "execution_count": 7,
   "metadata": {},
   "outputs": [
    {
     "name": "stdout",
     "output_type": "stream",
     "text": [
      "Changed: 38\n",
      "Changed: 39\n",
      "Changed: 40\n"
     ]
    },
    {
     "data": {
      "text/html": [
       "<div>\n",
       "<style scoped>\n",
       "    .dataframe tbody tr th:only-of-type {\n",
       "        vertical-align: middle;\n",
       "    }\n",
       "\n",
       "    .dataframe tbody tr th {\n",
       "        vertical-align: top;\n",
       "    }\n",
       "\n",
       "    .dataframe thead th {\n",
       "        text-align: right;\n",
       "    }\n",
       "</style>\n",
       "<table border=\"1\" class=\"dataframe\">\n",
       "  <thead>\n",
       "    <tr style=\"text-align: right;\">\n",
       "      <th></th>\n",
       "      <th>time</th>\n",
       "      <th>activity</th>\n",
       "      <th>assigned_to</th>\n",
       "    </tr>\n",
       "  </thead>\n",
       "  <tbody>\n",
       "    <tr>\n",
       "      <th>0</th>\n",
       "      <td>2019-05-01 05:20:00</td>\n",
       "      <td>prep</td>\n",
       "      <td>2019-05-01</td>\n",
       "    </tr>\n",
       "    <tr>\n",
       "      <th>1</th>\n",
       "      <td>2019-05-01 05:35:00</td>\n",
       "      <td>math</td>\n",
       "      <td>2019-05-01</td>\n",
       "    </tr>\n",
       "    <tr>\n",
       "      <th>2</th>\n",
       "      <td>2019-05-01 06:35:00</td>\n",
       "      <td>pause</td>\n",
       "      <td>2019-05-01</td>\n",
       "    </tr>\n",
       "    <tr>\n",
       "      <th>3</th>\n",
       "      <td>2019-05-01 06:45:00</td>\n",
       "      <td>math</td>\n",
       "      <td>2019-05-01</td>\n",
       "    </tr>\n",
       "    <tr>\n",
       "      <th>4</th>\n",
       "      <td>2019-05-01 07:45:00</td>\n",
       "      <td>music</td>\n",
       "      <td>2019-05-01</td>\n",
       "    </tr>\n",
       "  </tbody>\n",
       "</table>\n",
       "</div>"
      ],
      "text/plain": [
       "                 time activity assigned_to\n",
       "0 2019-05-01 05:20:00     prep  2019-05-01\n",
       "1 2019-05-01 05:35:00     math  2019-05-01\n",
       "2 2019-05-01 06:35:00    pause  2019-05-01\n",
       "3 2019-05-01 06:45:00     math  2019-05-01\n",
       "4 2019-05-01 07:45:00    music  2019-05-01"
      ]
     },
     "execution_count": 7,
     "metadata": {},
     "output_type": "execute_result"
    }
   ],
   "source": [
    "for i in range(len(df)):\n",
    "    if i != 0 and df.iloc[i].time < df.iloc[i-1].time:\n",
    "        print('Changed:', i)\n",
    "        df.loc[i,'time'] += dt.timedelta(days=1)\n",
    "df.head()"
   ]
  },
  {
   "cell_type": "markdown",
   "metadata": {},
   "source": [
    "## df_i: Convert to intervals"
   ]
  },
  {
   "cell_type": "markdown",
   "metadata": {},
   "source": [
    "Convert the absolute times to intervals by calculating the differences. For instance, the two first rows..."
   ]
  },
  {
   "cell_type": "code",
   "execution_count": 8,
   "metadata": {},
   "outputs": [
    {
     "data": {
      "text/html": [
       "<div>\n",
       "<style scoped>\n",
       "    .dataframe tbody tr th:only-of-type {\n",
       "        vertical-align: middle;\n",
       "    }\n",
       "\n",
       "    .dataframe tbody tr th {\n",
       "        vertical-align: top;\n",
       "    }\n",
       "\n",
       "    .dataframe thead th {\n",
       "        text-align: right;\n",
       "    }\n",
       "</style>\n",
       "<table border=\"1\" class=\"dataframe\">\n",
       "  <thead>\n",
       "    <tr style=\"text-align: right;\">\n",
       "      <th></th>\n",
       "      <th>time</th>\n",
       "      <th>activity</th>\n",
       "    </tr>\n",
       "  </thead>\n",
       "  <tbody>\n",
       "    <tr>\n",
       "      <th>0</th>\n",
       "      <td>2019-05-01 05:20:00</td>\n",
       "      <td>prep</td>\n",
       "    </tr>\n",
       "    <tr>\n",
       "      <th>1</th>\n",
       "      <td>2019-05-01 05:35:00</td>\n",
       "      <td>math</td>\n",
       "    </tr>\n",
       "  </tbody>\n",
       "</table>\n",
       "</div>"
      ],
      "text/plain": [
       "                 time activity\n",
       "0 2019-05-01 05:20:00     prep\n",
       "1 2019-05-01 05:35:00     math"
      ]
     },
     "execution_count": 8,
     "metadata": {},
     "output_type": "execute_result"
    }
   ],
   "source": [
    "df.drop('assigned_to',axis=1).head(2)"
   ]
  },
  {
   "cell_type": "markdown",
   "metadata": {},
   "source": [
    "... should be converted to: `2019-05-01|15|prep`"
   ]
  },
  {
   "cell_type": "code",
   "execution_count": 9,
   "metadata": {},
   "outputs": [
    {
     "name": "stdout",
     "output_type": "stream",
     "text": [
      "False\n",
      "date           datetime64[ns]\n",
      "time          timedelta64[ns]\n",
      "activity               object\n",
      "start_time     datetime64[ns]\n",
      "dtype: object\n"
     ]
    },
    {
     "data": {
      "text/html": [
       "<div>\n",
       "<style scoped>\n",
       "    .dataframe tbody tr th:only-of-type {\n",
       "        vertical-align: middle;\n",
       "    }\n",
       "\n",
       "    .dataframe tbody tr th {\n",
       "        vertical-align: top;\n",
       "    }\n",
       "\n",
       "    .dataframe thead th {\n",
       "        text-align: right;\n",
       "    }\n",
       "</style>\n",
       "<table border=\"1\" class=\"dataframe\">\n",
       "  <thead>\n",
       "    <tr style=\"text-align: right;\">\n",
       "      <th></th>\n",
       "      <th>date</th>\n",
       "      <th>time</th>\n",
       "      <th>activity</th>\n",
       "      <th>start_time</th>\n",
       "    </tr>\n",
       "  </thead>\n",
       "  <tbody>\n",
       "    <tr>\n",
       "      <th>0</th>\n",
       "      <td>2019-05-01</td>\n",
       "      <td>00:15:00</td>\n",
       "      <td>prep</td>\n",
       "      <td>2019-05-01 05:20:00</td>\n",
       "    </tr>\n",
       "    <tr>\n",
       "      <th>1</th>\n",
       "      <td>2019-05-01</td>\n",
       "      <td>01:00:00</td>\n",
       "      <td>math</td>\n",
       "      <td>2019-05-01 05:35:00</td>\n",
       "    </tr>\n",
       "    <tr>\n",
       "      <th>2</th>\n",
       "      <td>2019-05-01</td>\n",
       "      <td>00:10:00</td>\n",
       "      <td>pause</td>\n",
       "      <td>2019-05-01 06:35:00</td>\n",
       "    </tr>\n",
       "    <tr>\n",
       "      <th>3</th>\n",
       "      <td>2019-05-01</td>\n",
       "      <td>01:00:00</td>\n",
       "      <td>math</td>\n",
       "      <td>2019-05-01 06:45:00</td>\n",
       "    </tr>\n",
       "    <tr>\n",
       "      <th>4</th>\n",
       "      <td>2019-05-01</td>\n",
       "      <td>01:30:00</td>\n",
       "      <td>music</td>\n",
       "      <td>2019-05-01 07:45:00</td>\n",
       "    </tr>\n",
       "  </tbody>\n",
       "</table>\n",
       "</div>"
      ],
      "text/plain": [
       "        date     time activity          start_time\n",
       "0 2019-05-01 00:15:00     prep 2019-05-01 05:20:00\n",
       "1 2019-05-01 01:00:00     math 2019-05-01 05:35:00\n",
       "2 2019-05-01 00:10:00    pause 2019-05-01 06:35:00\n",
       "3 2019-05-01 01:00:00     math 2019-05-01 06:45:00\n",
       "4 2019-05-01 01:30:00    music 2019-05-01 07:45:00"
      ]
     },
     "execution_count": 9,
     "metadata": {},
     "output_type": "execute_result"
    }
   ],
   "source": [
    "df_i = pd.DataFrame(columns=['date','time','activity'])\n",
    "\n",
    "for (i,row) in df.iterrows():\n",
    "    if i != 0:\n",
    "        add_row = pd.Series({\n",
    "            'date':df.iloc[i-1].assigned_to,\n",
    "            'time':row.time-df.iloc[i-1].time,\n",
    "            'activity':df.iloc[i-1].activity,\n",
    "            'start_time':df.iloc[i-1].time\n",
    "        })\n",
    "        df_i = df_i.append(add_row,ignore_index=True)\n",
    "\n",
    "# Sanity check\n",
    "print(len(df)==len(df_i)-1)\n",
    "\n",
    "print(df_i.dtypes)\n",
    "df_i.head()"
   ]
  },
  {
   "cell_type": "markdown",
   "metadata": {},
   "source": [
    "## df_t: Sum up intervals"
   ]
  },
  {
   "cell_type": "markdown",
   "metadata": {},
   "source": [
    "Another useful view on the data is to store the total hours that were spent doing an activity, for every day and every activity."
   ]
  },
  {
   "cell_type": "code",
   "execution_count": 10,
   "metadata": {},
   "outputs": [
    {
     "data": {
      "text/html": [
       "<div>\n",
       "<style scoped>\n",
       "    .dataframe tbody tr th:only-of-type {\n",
       "        vertical-align: middle;\n",
       "    }\n",
       "\n",
       "    .dataframe tbody tr th {\n",
       "        vertical-align: top;\n",
       "    }\n",
       "\n",
       "    .dataframe thead th {\n",
       "        text-align: right;\n",
       "    }\n",
       "</style>\n",
       "<table border=\"1\" class=\"dataframe\">\n",
       "  <thead>\n",
       "    <tr style=\"text-align: right;\">\n",
       "      <th></th>\n",
       "      <th>cook</th>\n",
       "      <th>eat</th>\n",
       "      <th>math</th>\n",
       "      <th>music</th>\n",
       "      <th>pause</th>\n",
       "      <th>prep</th>\n",
       "      <th>sleep</th>\n",
       "      <th>uni</th>\n",
       "      <th>meditation</th>\n",
       "      <th>special</th>\n",
       "      <th>work</th>\n",
       "    </tr>\n",
       "    <tr>\n",
       "      <th>date</th>\n",
       "      <th></th>\n",
       "      <th></th>\n",
       "      <th></th>\n",
       "      <th></th>\n",
       "      <th></th>\n",
       "      <th></th>\n",
       "      <th></th>\n",
       "      <th></th>\n",
       "      <th></th>\n",
       "      <th></th>\n",
       "      <th></th>\n",
       "    </tr>\n",
       "  </thead>\n",
       "  <tbody>\n",
       "    <tr>\n",
       "      <th>2019-05-01</th>\n",
       "      <td>00:33:00</td>\n",
       "      <td>01:46:00</td>\n",
       "      <td>03:31:00</td>\n",
       "      <td>01:57:00</td>\n",
       "      <td>01:13:00</td>\n",
       "      <td>05:49:00</td>\n",
       "      <td>11:43:00</td>\n",
       "      <td>01:38:00</td>\n",
       "      <td>00:00:00</td>\n",
       "      <td>0 days</td>\n",
       "      <td>0 days</td>\n",
       "    </tr>\n",
       "    <tr>\n",
       "      <th>2019-05-02</th>\n",
       "      <td>00:41:00</td>\n",
       "      <td>02:27:00</td>\n",
       "      <td>06:39:00</td>\n",
       "      <td>00:57:00</td>\n",
       "      <td>00:31:00</td>\n",
       "      <td>01:45:00</td>\n",
       "      <td>05:55:00</td>\n",
       "      <td>02:50:00</td>\n",
       "      <td>00:00:00</td>\n",
       "      <td>0 days</td>\n",
       "      <td>0 days</td>\n",
       "    </tr>\n",
       "    <tr>\n",
       "      <th>2019-05-03</th>\n",
       "      <td>00:56:00</td>\n",
       "      <td>01:57:00</td>\n",
       "      <td>00:00:00</td>\n",
       "      <td>00:10:00</td>\n",
       "      <td>00:52:00</td>\n",
       "      <td>03:50:00</td>\n",
       "      <td>12:15:00</td>\n",
       "      <td>05:45:00</td>\n",
       "      <td>00:15:00</td>\n",
       "      <td>0 days</td>\n",
       "      <td>0 days</td>\n",
       "    </tr>\n",
       "    <tr>\n",
       "      <th>2019-05-04</th>\n",
       "      <td>01:20:00</td>\n",
       "      <td>02:04:00</td>\n",
       "      <td>02:30:00</td>\n",
       "      <td>00:00:00</td>\n",
       "      <td>00:00:00</td>\n",
       "      <td>01:39:00</td>\n",
       "      <td>06:52:00</td>\n",
       "      <td>06:27:00</td>\n",
       "      <td>00:15:00</td>\n",
       "      <td>0 days</td>\n",
       "      <td>0 days</td>\n",
       "    </tr>\n",
       "    <tr>\n",
       "      <th>2019-05-05</th>\n",
       "      <td>00:17:00</td>\n",
       "      <td>02:18:00</td>\n",
       "      <td>02:45:00</td>\n",
       "      <td>01:00:00</td>\n",
       "      <td>00:00:00</td>\n",
       "      <td>05:01:00</td>\n",
       "      <td>08:26:00</td>\n",
       "      <td>05:17:00</td>\n",
       "      <td>00:20:00</td>\n",
       "      <td>0 days</td>\n",
       "      <td>0 days</td>\n",
       "    </tr>\n",
       "  </tbody>\n",
       "</table>\n",
       "</div>"
      ],
      "text/plain": [
       "               cook      eat     math    music    pause     prep    sleep  \\\n",
       "date                                                                        \n",
       "2019-05-01 00:33:00 01:46:00 03:31:00 01:57:00 01:13:00 05:49:00 11:43:00   \n",
       "2019-05-02 00:41:00 02:27:00 06:39:00 00:57:00 00:31:00 01:45:00 05:55:00   \n",
       "2019-05-03 00:56:00 01:57:00 00:00:00 00:10:00 00:52:00 03:50:00 12:15:00   \n",
       "2019-05-04 01:20:00 02:04:00 02:30:00 00:00:00 00:00:00 01:39:00 06:52:00   \n",
       "2019-05-05 00:17:00 02:18:00 02:45:00 01:00:00 00:00:00 05:01:00 08:26:00   \n",
       "\n",
       "                uni meditation special   work  \n",
       "date                                           \n",
       "2019-05-01 01:38:00   00:00:00  0 days 0 days  \n",
       "2019-05-02 02:50:00   00:00:00  0 days 0 days  \n",
       "2019-05-03 05:45:00   00:15:00  0 days 0 days  \n",
       "2019-05-04 06:27:00   00:15:00  0 days 0 days  \n",
       "2019-05-05 05:17:00   00:20:00  0 days 0 days  "
      ]
     },
     "execution_count": 10,
     "metadata": {},
     "output_type": "execute_result"
    }
   ],
   "source": [
    "unique_activities = df_i.activity.unique()\n",
    "\n",
    "def by_activity(df):\n",
    "    res = df.groupby('activity').sum()\n",
    "    return pd.DataFrame([res.time.values],columns=res.index.values)\n",
    "\n",
    "df_t = df_i.groupby('date').apply(by_activity)\n",
    "df_t = df_t.fillna(dt.timedelta(0))\n",
    "df_t = df_t.droplevel(1)\n",
    "df_t.head()"
   ]
  },
  {
   "cell_type": "markdown",
   "metadata": {},
   "source": [
    "## Write to files"
   ]
  },
  {
   "cell_type": "code",
   "execution_count": 12,
   "metadata": {},
   "outputs": [
    {
     "name": "stdout",
     "output_type": "stream",
     "text": [
      "02:30\n"
     ]
    }
   ],
   "source": [
    "def format_timedelta(td):\n",
    "    # Hack for easy formatting\n",
    "    return (td + pd.to_datetime('2000-01-01')).strftime('%H:%M')\n",
    "    \n",
    "print(format_timedelta(pd.to_timedelta('2h 30min')))"
   ]
  },
  {
   "cell_type": "code",
   "execution_count": 13,
   "metadata": {},
   "outputs": [],
   "source": [
    "df_i_tmp = df_i.copy()\n",
    "df_i_tmp.time = df_i_tmp.time.map(format_timedelta)\n",
    "df_i_tmp.date = df_i_tmp.date.map(lambda x: x.strftime('%Y-%m-%d'))\n",
    "\n",
    "df_i_tmp.to_csv(output_interval_file_path,index=None)"
   ]
  },
  {
   "cell_type": "code",
   "execution_count": 14,
   "metadata": {},
   "outputs": [],
   "source": [
    "df_t.applymap(format_timedelta).to_csv(output_total_file_path)"
   ]
  }
 ],
 "metadata": {
  "kernelspec": {
   "display_name": "Python 3",
   "language": "python",
   "name": "python3"
  }
 },
 "nbformat": 4,
 "nbformat_minor": 2
}
