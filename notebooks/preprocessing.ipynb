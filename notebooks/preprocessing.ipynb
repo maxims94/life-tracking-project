{
 "cells": [
  {
   "cell_type": "markdown",
   "metadata": {},
   "source": [
    "# Preprocessing\n",
    "\n",
    "The raw data is split across multiple files in a folder, each of which is named according to the scheme `YYYY-MM-DD`. The contents are CSV formatted and follow the pattern `HH:MM,activity`.\n",
    "\n",
    "For example, the file named `2019-05-01` contains the activities for that day. Its lines look like this:\n",
    "\n",
    "`\n",
    "...\n",
    "12:00,uni\n",
    "15:00,prep\n",
    "17:00,pause\n",
    "...\n",
    "`\n",
    "\n",
    "In the first step, we combine them into a single file and prepend the date (the file name) to each row. The resulting file contains rows in the format `YYYY-MM-DD,HH-MM,activity`. For example:\n",
    "\n",
    "`\n",
    "...\n",
    "2019-05-01,12:00,uni\n",
    "2019-05-01,15:00,prep\n",
    "2019-05-01,17:00,pause\n",
    "...\n",
    "`\n",
    "\n",
    "This is done using the shell and UNIX tools:\n",
    "\n",
    "`\n",
    "for f in *; do\n",
    "  awk '{print FILENAME\",\"$0}' \"$f\"\n",
    "done\n",
    "`\n",
    "\n",
    "The result is stored in `life_data.csv`. For privacy reasons, the uploaded version is a shortened and altered version of my real data, but it is sufficient to demonstrate the key ideas."
   ]
  }
 ],
 "metadata": {
  "kernelspec": {
   "display_name": "Python 3",
   "language": "python",
   "name": "python3"
  },
  "language_info": {
   "codemirror_mode": {
    "name": "ipython",
    "version": 3
   },
   "file_extension": ".py",
   "mimetype": "text/x-python",
   "name": "python",
   "nbconvert_exporter": "python",
   "pygments_lexer": "ipython3",
   "version": "3.5.2"
  }
 },
 "nbformat": 4,
 "nbformat_minor": 2
}
