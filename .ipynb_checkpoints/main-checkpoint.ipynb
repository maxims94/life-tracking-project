{
 "cells": [
  {
   "cell_type": "markdown",
   "metadata": {},
   "source": [
    "# Life Tracking Project\n",
    "\n",
    "## Objective\n",
    "\n",
    "The objective of this project is to collect data on my life and look for patterns within it. In the best case, analyzing this data will lead to new insights about how I live my life that I would not have gathered otherwise. This could then allow me to make precise changes in my lifestyle -- that are now substantiated by data.\n",
    "\n",
    "## Plan\n",
    "\n",
    "* Collect data on my daily activities and store it in a simple text file\n",
    "* Merge data into one file using UNIX tools\n",
    "* Process the data\n",
    "    * Create a data frame that stores the activities as intervals (df_i)\n",
    "    * Create a data frame that stores the total time spent doing an activity per day (df_t)\n",
    "* Explore the data\n",
    "    * In particular, analyze sleep and sleeping patterns\n",
    "    * Also, analyze factors that influence my productivity\n",
    "* Draw conclusions"
   ]
  },
  {
   "cell_type": "code",
   "execution_count": null,
   "metadata": {},
   "outputs": [],
   "source": []
  }
 ],
 "metadata": {
  "kernelspec": {
   "display_name": "Python 3",
   "language": "python",
   "name": "python3"
  },
  "language_info": {
   "codemirror_mode": {
    "name": "ipython",
    "version": 3
   },
   "file_extension": ".py",
   "mimetype": "text/x-python",
   "name": "python",
   "nbconvert_exporter": "python",
   "pygments_lexer": "ipython3",
   "version": "3.5.2"
  }
 },
 "nbformat": 4,
 "nbformat_minor": 2
}
